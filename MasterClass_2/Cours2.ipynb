{
  "cells": [
    {
      "cell_type": "markdown",
      "metadata": {},
      "source": [
        "# Chapitre 2 : Introduction à Pandas 🐼\n",
        "\n",
        "Dans ce cours, nous allons explorer Pandas, une bibliothèque Python puissante pour l'analyse et la manipulation de données.\n",
        "\n",
        "De plus n'hésite pas à lire ses ressouces avant de venir en masterclasse ✅\n",
        "\n",
        "- [Documentation officielle de Pandas](https://pandas.pydata.org/docs/)\n",
        "- [CheatSheetPandas](https://pandas.pydata.org/Pandas_Cheat_Sheet.pdf)\n",
        "- [Yet another cheat sheet](https://www.webpages.uidaho.edu/~stevel/cheatsheets/Pandas%20DataFrame%20Notes_12pages.pdf)\n",
        "- [Utilisation de seaborn](https://seaborn.pydata.org/)\n",
        "\n",
        "Si tu as des questions ! 🙌🏼 Lance toi !\n",
        "\n",
        "Durant cette masterclasse et en prendant en compte les différents retours des masterclasses précédentes, nous allons travailler de la sorte:\n",
        "\n",
        "- Découverte de la librairie ensemble avec différents exemples et cas pratiques\n",
        "- Découverte et manipulation dun jeu de données très connus dans la litterature ➡️ le titanic 🛳️\n",
        "- Utilisation de Seaborn et Matplotlib pour la visualisation des données\n",
        "- Exercice pratique en solo 🫣\n"
      ]
    },
    {
      "cell_type": "markdown",
      "metadata": {},
      "source": [
        "## 1. Introduction à Pandas\n",
        "\n",
        "### Qu'est-ce que Pandas ? 🤔\n",
        "\n",
        "Pandas est une bibliothèque Python open-source qui fournit des structures de données et des outils d'analyse de données performants. Elle est particulièrement utile pour travailler avec des données structurées, comme des tableaux ou des séries temporelles.\n",
        "\n",
        "Les principales structures de données dans Pandas sont :\n",
        "- Series : Une colonne de données unidimensionnelle\n",
        "- DataFrame : Une structure de données bidimensionnelle (comme un tableau)\n",
        "\n",
        "Il faut voir la dataframe comme un tableau de données avec des lignes et des colonnes. Un peu comme un **excel**.\n",
        "\n",
        "Pandas permet de faire énormément de chose avec ces structures de données en python !\n",
        "\n",
        "Pour bien comprendre la différence entre une série et un dataframe:\n",
        "\n",
        " - ```Une série est une liste de données```\n",
        "\n",
        "<div style=\"text-align: center;\">\n",
        "<img src=\"./image/series.png\" width=\"100\" style=\"box-shadow: 2px 2px 5px rgba(0, 0, 0, 0.3);border-radius: 10px;\"/>\n",
        "  <figcaption>Une série</figcaption>\n",
        "\n",
        "</div>\n",
        "\n",
        " - ```Un DataFrame est une structure de données bidimensionnelle composée de séries qui peuvent être de différents types.```\n",
        "<div style=\"text-align: center;\">\n",
        "<img src=\"./image/seriesdf.png\" width=\"500\" style=\"box-shadow: 2px 2px 5px rgba(0, 0, 0, 0.3);border-radius: 10px;\"/>\n",
        "  <figcaption>Series et DataFrame</figcaption>\n",
        "\n",
        "</div>"
      ]
    },
    {
      "cell_type": "markdown",
      "metadata": {},
      "source": [
        "### Création d'un DataFrame à partir d'une et de deux séries 🧮 \n"
      ]
    },
    {
      "cell_type": "markdown",
      "metadata": {},
      "source": [
        "Ok, passons à la pratique ! On va simplement voir ceux qui entourent les **series** et les **dataframes**. 🤓\n"
      ]
    },
    {
      "cell_type": "code",
      "execution_count": 18,
      "metadata": {},
      "outputs": [
        {
          "name": "stdout",
          "output_type": "stream",
          "text": [
            "---------\n",
            "Type de appreciations: <class 'list'>\n",
            "---\n",
            "Contenu de appreciations: ['Assez bien 🙂', 'Bien 👍', 'Très bien ! 😊', 'Excellent ! 🌟', 'Excellent ! 🌟']\n",
            "---------\n",
            "\n",
            "Type de notes: <class 'pandas.core.series.Series'>\n",
            "---\n",
            "Contenu de notes: 0    12\n",
            "1    14\n",
            "2    16\n",
            "3    18\n",
            "4    20\n",
            "dtype: int64\n",
            "---------\n"
          ]
        }
      ],
      "source": [
        "from utils.operations import obtenir_appreciation\n",
        "# Importation de pandas\n",
        "import pandas as pd\n",
        "\n",
        "# Créer une série un peu comme apples mais avec des notes\n",
        "notes = pd.Series([12, 14, 16, 18, 20])\n",
        "\n",
        "# Appliquer la fonction d'appréciation\n",
        "appreciations = [obtenir_appreciation(note) for note in notes]\n",
        "\n",
        "# Des types différents ??\n",
        "print(\"---------\")\n",
        "print(\"Type de appreciations:\", type(appreciations))\n",
        "print(\"---\")\n",
        "print(\"Contenu de appreciations:\", appreciations)\n",
        "print(\"---------\")\n",
        "print(\"\\nType de notes:\", type(notes))\n",
        "print(\"---\")\n",
        "print(\"Contenu de notes:\", notes)\n",
        "print(\"---------\")\n"
      ]
    },
    {
      "cell_type": "markdown",
      "metadata": {},
      "source": [
        "🤔 Il y a un type **liste**, un type **pd.series** ?? Kesako ? \n",
        "\n",
        "Comme je vous l'ai dis, pandas est une librairie qui permet de manipuler les données.\n",
        "Mais pour construire un dataframe il faut à minima une série de données.\n",
        "\n",
        "🤔 Comment faire pour créer un dataframe ? \n",
        "\n",
        "```python\n",
        "pd.DataFrame({'Appréciations': appreciations})\n",
        "```\n",
        "\n",
        "Pour en créer un, à partir d'au minimum une série, nous devons lui donner le <span style=\"color: orange;\">nom de sa colonne</span> ainsi que les <span style=\"color: red;\">valeurs qui composent cette colonne</span>:\n",
        "<div style=\"text-align: left;\">\n",
        "<img src=\"./image/explaindf.png\" width=\"400\" style=\"box-shadow: 2px 2px 5px rgba(0, 0, 0, 0.3);border-radius: 10px;\"/>\n",
        "\n",
        "\n",
        "</div>\n",
        "\n",
        "Un peu de code : "
      ]
    },
    {
      "cell_type": "code",
      "execution_count": 16,
      "metadata": {},
      "outputs": [
        {
          "name": "stdout",
          "output_type": "stream",
          "text": [
            "DataFrame créé à partir des appréciations:\n"
          ]
        },
        {
          "data": {
            "text/html": [
              "<div>\n",
              "<style scoped>\n",
              "    .dataframe tbody tr th:only-of-type {\n",
              "        vertical-align: middle;\n",
              "    }\n",
              "\n",
              "    .dataframe tbody tr th {\n",
              "        vertical-align: top;\n",
              "    }\n",
              "\n",
              "    .dataframe thead th {\n",
              "        text-align: right;\n",
              "    }\n",
              "</style>\n",
              "<table border=\"1\" class=\"dataframe\">\n",
              "  <thead>\n",
              "    <tr style=\"text-align: right;\">\n",
              "      <th></th>\n",
              "      <th>Appréciations</th>\n",
              "    </tr>\n",
              "  </thead>\n",
              "  <tbody>\n",
              "    <tr>\n",
              "      <th>0</th>\n",
              "      <td>Assez bien 🙂</td>\n",
              "    </tr>\n",
              "    <tr>\n",
              "      <th>1</th>\n",
              "      <td>Bien 👍</td>\n",
              "    </tr>\n",
              "    <tr>\n",
              "      <th>2</th>\n",
              "      <td>Très bien ! 😊</td>\n",
              "    </tr>\n",
              "    <tr>\n",
              "      <th>3</th>\n",
              "      <td>Excellent ! 🌟</td>\n",
              "    </tr>\n",
              "    <tr>\n",
              "      <th>4</th>\n",
              "      <td>Excellent ! 🌟</td>\n",
              "    </tr>\n",
              "  </tbody>\n",
              "</table>\n",
              "</div>"
            ],
            "text/plain": [
              "   Appréciations\n",
              "0   Assez bien 🙂\n",
              "1         Bien 👍\n",
              "2  Très bien ! 😊\n",
              "3  Excellent ! 🌟\n",
              "4  Excellent ! 🌟"
            ]
          },
          "execution_count": 16,
          "metadata": {},
          "output_type": "execute_result"
        }
      ],
      "source": [
        "# Transformer les appréciations en DataFrame\n",
        "df_appreciations = pd.DataFrame({'Appréciations': appreciations})\n",
        "\n",
        "print(\"DataFrame créé à partir des appréciations:\")\n",
        "df_appreciations\n"
      ]
    },
    {
      "cell_type": "markdown",
      "metadata": {},
      "source": [
        "\n",
        "Maintenant créons un dataframe à partir de deux séries.\n",
        "\n",
        "```python\n",
        "df_notes = pd.DataFrame({\n",
        "    'Notes': notes,\n",
        "    'Appréciations': appreciations\n",
        "})\n",
        "```\n",
        "\n"
      ]
    },
    {
      "cell_type": "code",
      "execution_count": 22,
      "metadata": {},
      "outputs": [
        {
          "data": {
            "text/html": [
              "<div>\n",
              "<style scoped>\n",
              "    .dataframe tbody tr th:only-of-type {\n",
              "        vertical-align: middle;\n",
              "    }\n",
              "\n",
              "    .dataframe tbody tr th {\n",
              "        vertical-align: top;\n",
              "    }\n",
              "\n",
              "    .dataframe thead th {\n",
              "        text-align: right;\n",
              "    }\n",
              "</style>\n",
              "<table border=\"1\" class=\"dataframe\">\n",
              "  <thead>\n",
              "    <tr style=\"text-align: right;\">\n",
              "      <th></th>\n",
              "      <th>Notes</th>\n",
              "      <th>Appréciations</th>\n",
              "    </tr>\n",
              "  </thead>\n",
              "  <tbody>\n",
              "    <tr>\n",
              "      <th>0</th>\n",
              "      <td>12</td>\n",
              "      <td>Assez bien 🙂</td>\n",
              "    </tr>\n",
              "    <tr>\n",
              "      <th>1</th>\n",
              "      <td>14</td>\n",
              "      <td>Bien 👍</td>\n",
              "    </tr>\n",
              "    <tr>\n",
              "      <th>2</th>\n",
              "      <td>16</td>\n",
              "      <td>Très bien ! 😊</td>\n",
              "    </tr>\n",
              "    <tr>\n",
              "      <th>3</th>\n",
              "      <td>18</td>\n",
              "      <td>Excellent ! 🌟</td>\n",
              "    </tr>\n",
              "    <tr>\n",
              "      <th>4</th>\n",
              "      <td>20</td>\n",
              "      <td>Excellent ! 🌟</td>\n",
              "    </tr>\n",
              "  </tbody>\n",
              "</table>\n",
              "</div>"
            ],
            "text/plain": [
              "   Notes  Appréciations\n",
              "0     12   Assez bien 🙂\n",
              "1     14         Bien 👍\n",
              "2     16  Très bien ! 😊\n",
              "3     18  Excellent ! 🌟\n",
              "4     20  Excellent ! 🌟"
            ]
          },
          "execution_count": 22,
          "metadata": {},
          "output_type": "execute_result"
        }
      ],
      "source": [
        "\n",
        "note_et_appreciation = pd.DataFrame({\n",
        "    'Notes': notes,\n",
        "    'Appréciations': appreciations\n",
        "})\n",
        "note_et_appreciation\n"
      ]
    },
    {
      "cell_type": "markdown",
      "metadata": {},
      "source": [
        "🎉 Ok nous avons un premier dataframe.\n",
        "\n",
        "Mais il manque un petit quelque chose ...\n",
        "\n",
        "```Si je veux la note d'un étudiant, par exemple Lise, ou Raphaël ? ```\n",
        "\n",
        "Ici nous avons deux possibilités, soit je créer ce que j'appelle un index, ou bien une colonne.\n",
        "\n",
        "Il est toujours préférable d'avoir des index uniques pour chaque ligne. \n",
        "\n",
        "Nous allons donc simplement ajouter une colonne avec le nom des étudiants et nous l'appellerons \"noms\"."
      ]
    },
    {
      "cell_type": "code",
      "execution_count": 43,
      "metadata": {},
      "outputs": [
        {
          "data": {
            "text/html": [
              "<div>\n",
              "<style scoped>\n",
              "    .dataframe tbody tr th:only-of-type {\n",
              "        vertical-align: middle;\n",
              "    }\n",
              "\n",
              "    .dataframe tbody tr th {\n",
              "        vertical-align: top;\n",
              "    }\n",
              "\n",
              "    .dataframe thead th {\n",
              "        text-align: right;\n",
              "    }\n",
              "</style>\n",
              "<table border=\"1\" class=\"dataframe\">\n",
              "  <thead>\n",
              "    <tr style=\"text-align: right;\">\n",
              "      <th></th>\n",
              "      <th>Notes</th>\n",
              "      <th>Appréciations</th>\n",
              "      <th>noms</th>\n",
              "    </tr>\n",
              "  </thead>\n",
              "  <tbody>\n",
              "    <tr>\n",
              "      <th>0</th>\n",
              "      <td>12</td>\n",
              "      <td>Assez bien 🙂</td>\n",
              "      <td>Lise</td>\n",
              "    </tr>\n",
              "    <tr>\n",
              "      <th>1</th>\n",
              "      <td>14</td>\n",
              "      <td>Bien 👍</td>\n",
              "      <td>Raphael</td>\n",
              "    </tr>\n",
              "    <tr>\n",
              "      <th>2</th>\n",
              "      <td>16</td>\n",
              "      <td>Très bien ! 😊</td>\n",
              "      <td>Laurence</td>\n",
              "    </tr>\n",
              "    <tr>\n",
              "      <th>3</th>\n",
              "      <td>18</td>\n",
              "      <td>Excellent ! 🌟</td>\n",
              "      <td>Hugo</td>\n",
              "    </tr>\n",
              "    <tr>\n",
              "      <th>4</th>\n",
              "      <td>20</td>\n",
              "      <td>Excellent ! 🌟</td>\n",
              "      <td>Bertrand</td>\n",
              "    </tr>\n",
              "  </tbody>\n",
              "</table>\n",
              "</div>"
            ],
            "text/plain": [
              "   Notes  Appréciations      noms\n",
              "0     12   Assez bien 🙂      Lise\n",
              "1     14         Bien 👍   Raphael\n",
              "2     16  Très bien ! 😊  Laurence\n",
              "3     18  Excellent ! 🌟      Hugo\n",
              "4     20  Excellent ! 🌟  Bertrand"
            ]
          },
          "execution_count": 43,
          "metadata": {},
          "output_type": "execute_result"
        }
      ],
      "source": [
        "# Dans ma df note_et_appreciation, je créer une colonne qui s'appelle \"noms\" et je lui donne les valeurs suivantes :\n",
        "note_et_appreciation[\"noms\"]= [\"Lise\", \"Raphael\", \"Laurence\", \"Hugo\", \"Bertrand\"]\n",
        "\n",
        "#Je l'affiche\n",
        "note_et_appreciation\n"
      ]
    },
    {
      "cell_type": "markdown",
      "metadata": {},
      "source": [
        "Magie 🪄, pour créer une nouvelle colonne, je n'ai pas besoin de faire une boucle for. Je peux simplement lui donner les valeurs avec le nom de sa colonne comme dans le code précédent.\n",
        "\n",
        "## ⛔️ Attention ⛔️\n",
        "\n",
        "Si je fais ça : \n",
        "\n",
        "```python\n",
        "note_et_appreciation[\"noms\"]= [\"Lise\", \"Raphael\", \"Laurence\", \"Hugo\", \"Bertrand\",\"Christopher\"]\n",
        "```\n",
        "<p style=\"color: red;\">Il y aura une erreur.</p>\n",
        "\n",
        "🤔 Pourquoi ? \n",
        "\n",
        "Car mon nombre de valeurs dans la série que je souhaite ajouter à ma df ne correspond pas au nombre de ligne dans ma series. \n",
        "\n",
        "## Accéder aux valeurs dans un dataframe 🕵🏼‍♂️\n",
        "\n",
        "Pour accéder aux valeurs d'une colonne dans un dataframe, il faut faire comme ceci : \n",
        "\n",
        "```python\n",
        "note_et_appreciation[\"noms\"]\n",
        "```\n",
        "\n",
        "Pour accéder à une valeur en particulier, il faut faire comme ceci : \n",
        "\n",
        "```python\n",
        "note_et_appreciation[\"noms\"][0]\n",
        "```\n",
        "\n",
        "Pour accéder à une ligne en particulier, il faut faire comme ceci : \n",
        "\n",
        "```python\n",
        "note_et_appreciation.loc[0]\n",
        "```\n",
        "\n"
      ]
    },
    {
      "cell_type": "code",
      "execution_count": 32,
      "metadata": {},
      "outputs": [
        {
          "name": "stdout",
          "output_type": "stream",
          "text": [
            "0        Lise\n",
            "1     Raphael\n",
            "2    Laurence\n",
            "3        Hugo\n",
            "4    Bertrand\n",
            "Name: noms, dtype: object\n",
            "---------\n",
            "<class 'pandas.core.series.Series'>\n",
            "---------\n"
          ]
        }
      ],
      "source": [
        "# J'accéde à une série de mon dataframe\n",
        "print(note_et_appreciation[\"noms\"])\n",
        "print(\"---------\")\n",
        "print(type(note_et_appreciation[\"noms\"]))\n",
        "print(\"---------\")\n"
      ]
    },
    {
      "cell_type": "code",
      "execution_count": 51,
      "metadata": {},
      "outputs": [
        {
          "name": "stdout",
          "output_type": "stream",
          "text": [
            "<class 'pandas.core.frame.DataFrame'>\n",
            "---------\n"
          ]
        },
        {
          "data": {
            "text/html": [
              "<div>\n",
              "<style scoped>\n",
              "    .dataframe tbody tr th:only-of-type {\n",
              "        vertical-align: middle;\n",
              "    }\n",
              "\n",
              "    .dataframe tbody tr th {\n",
              "        vertical-align: top;\n",
              "    }\n",
              "\n",
              "    .dataframe thead th {\n",
              "        text-align: right;\n",
              "    }\n",
              "</style>\n",
              "<table border=\"1\" class=\"dataframe\">\n",
              "  <thead>\n",
              "    <tr style=\"text-align: right;\">\n",
              "      <th></th>\n",
              "      <th>noms</th>\n",
              "    </tr>\n",
              "  </thead>\n",
              "  <tbody>\n",
              "    <tr>\n",
              "      <th>0</th>\n",
              "      <td>Lise</td>\n",
              "    </tr>\n",
              "    <tr>\n",
              "      <th>1</th>\n",
              "      <td>Raphael</td>\n",
              "    </tr>\n",
              "    <tr>\n",
              "      <th>2</th>\n",
              "      <td>Laurence</td>\n",
              "    </tr>\n",
              "    <tr>\n",
              "      <th>3</th>\n",
              "      <td>Hugo</td>\n",
              "    </tr>\n",
              "    <tr>\n",
              "      <th>4</th>\n",
              "      <td>Bertrand</td>\n",
              "    </tr>\n",
              "  </tbody>\n",
              "</table>\n",
              "</div>"
            ],
            "text/plain": [
              "       noms\n",
              "0      Lise\n",
              "1   Raphael\n",
              "2  Laurence\n",
              "3      Hugo\n",
              "4  Bertrand"
            ]
          },
          "execution_count": 51,
          "metadata": {},
          "output_type": "execute_result"
        }
      ],
      "source": [
        "# J'accéde à une série de mon dataframe\n",
        "\n",
        "print(type(note_et_appreciation[[\"noms\"]]))\n",
        "print(\"---------\")\n",
        "note_et_appreciation[[\"noms\"]]"
      ]
    },
    {
      "cell_type": "code",
      "execution_count": 33,
      "metadata": {},
      "outputs": [
        {
          "name": "stdout",
          "output_type": "stream",
          "text": [
            "Lise\n",
            "---------\n",
            "<class 'str'>\n",
            "---------\n"
          ]
        }
      ],
      "source": [
        "# J'accéde à une valeur en particulier de ma serie\n",
        "print(note_et_appreciation[\"noms\"][0])\n",
        "print(\"---------\")\n",
        "print(type(note_et_appreciation[\"noms\"][0]))\n",
        "print(\"---------\")\n"
      ]
    },
    {
      "cell_type": "code",
      "execution_count": 41,
      "metadata": {},
      "outputs": [
        {
          "name": "stdout",
          "output_type": "stream",
          "text": [
            "Notes                      12\n",
            "Appréciations    Assez bien 🙂\n",
            "noms                     Lise\n",
            "Name: 0, dtype: object\n",
            "---------\n",
            "<class 'pandas.core.series.Series'>\n",
            "---------\n"
          ]
        }
      ],
      "source": [
        "\n",
        "# J'accéde à une ligne en particulier de ma serie\n",
        "print(note_et_appreciation.loc[0])\n",
        "print(\"---------\")\n",
        "print(type(note_et_appreciation.loc[0]))\n",
        "print(\"---------\")\n"
      ]
    },
    {
      "cell_type": "code",
      "execution_count": 55,
      "metadata": {},
      "outputs": [
        {
          "data": {
            "text/html": [
              "<div>\n",
              "<style scoped>\n",
              "    .dataframe tbody tr th:only-of-type {\n",
              "        vertical-align: middle;\n",
              "    }\n",
              "\n",
              "    .dataframe tbody tr th {\n",
              "        vertical-align: top;\n",
              "    }\n",
              "\n",
              "    .dataframe thead th {\n",
              "        text-align: right;\n",
              "    }\n",
              "</style>\n",
              "<table border=\"1\" class=\"dataframe\">\n",
              "  <thead>\n",
              "    <tr style=\"text-align: right;\">\n",
              "      <th></th>\n",
              "      <th>noms</th>\n",
              "    </tr>\n",
              "  </thead>\n",
              "  <tbody>\n",
              "    <tr>\n",
              "      <th>3</th>\n",
              "      <td>Hugo</td>\n",
              "    </tr>\n",
              "    <tr>\n",
              "      <th>4</th>\n",
              "      <td>Bertrand</td>\n",
              "    </tr>\n",
              "  </tbody>\n",
              "</table>\n",
              "</div>"
            ],
            "text/plain": [
              "       noms\n",
              "3      Hugo\n",
              "4  Bertrand"
            ]
          },
          "execution_count": 55,
          "metadata": {},
          "output_type": "execute_result"
        }
      ],
      "source": [
        "#Accéder à un sous groupe de ligne en affichant la colonne noms\n",
        "note_et_appreciation.loc[3:4,[\"noms\"]]"
      ]
    },
    {
      "cell_type": "markdown",
      "metadata": {},
      "source": [
        "**Un petit résumé :**"
      ]
    },
    {
      "cell_type": "markdown",
      "metadata": {},
      "source": [
        " <div style=\"display: flex; align-items: center;\">\n",
        "     <img src=\"./image/diffaccess1.png\" width=\"300\" style=\"box-shadow: 2px 2px 5px rgba(0, 0, 0, 0.3); border-radius: 10px;\"/>\n",
        "     <div style=\"margin-left: 12px;\">\n",
        "         <p style=\"color: red;\">1. Accéder à une ligne : <code>note_et_appreciation.loc[1]</code></p>\n",
        "         <p style=\"color: orange;\">2. Accéder à une colonne : <code>note_et_appreciation[\"Notes\"]</code></p>\n",
        "         <p style=\"color: green;\">3. Accéder à la première valeur de la colonne noms : <code>note_et_appreciation[\"noms\"][0]</code></p>\n",
        "         <p style=\"color: blue;\">4. Accéder à un sous groupe de ligne : <code>note_et_appreciation.loc[3:4]</code></p>\n",
        "     </div>\n",
        " </div>"
      ]
    },
    {
      "cell_type": "markdown",
      "metadata": {},
      "source": [
        "### Filtrer et opérer sur les données 🟰\n",
        "#### Les filtres booléens\n",
        "\n",
        "Si tu ne sais pas ce qu'est un booléen, vas lire l'article suivant :\n",
        "- [Un booléen Kesako ? 🤔](https://www.maxicours.com/se/cours/comprendre-les-booleens/)\n",
        "\n"
      ]
    },
    {
      "cell_type": "markdown",
      "metadata": {},
      "source": [
        "\n",
        "Pandas, permet de parcourir les données et donc de les analyser facilement. \n",
        "Pour ce faire nous allons voir ce qu'est la sélection conditionnelle. \n",
        "\n",
        "```python\n",
        "personnes_notes_elevees = note_et_appreciation[(note_et_appreciation['Notes'] >= 16) & (note_et_appreciation['noms'] == 'Bertrand')]\n",
        "```\n",
        "\n",
        "On peut utiliser query et avoir éxactement le même résultat:\n",
        "\n",
        "```python\n",
        "note_et_appreciation.query('Notes >= 16 and noms == \"Bertrand\"')\n",
        "```\n",
        "\n",
        "🤔 Comment lire ce code ? \n",
        "\n",
        "On veut les personnes ayant une note supérieure ou égale à 16 **ET** le nom de la personne est égale à Bertrand.\n",
        "\n",
        "\n",
        "\n"
      ]
    },
    {
      "cell_type": "code",
      "execution_count": 71,
      "metadata": {},
      "outputs": [
        {
          "name": "stdout",
          "output_type": "stream",
          "text": [
            "Personnes avec une note supérieure à 16 :\n"
          ]
        },
        {
          "data": {
            "text/html": [
              "<div>\n",
              "<style scoped>\n",
              "    .dataframe tbody tr th:only-of-type {\n",
              "        vertical-align: middle;\n",
              "    }\n",
              "\n",
              "    .dataframe tbody tr th {\n",
              "        vertical-align: top;\n",
              "    }\n",
              "\n",
              "    .dataframe thead th {\n",
              "        text-align: right;\n",
              "    }\n",
              "</style>\n",
              "<table border=\"1\" class=\"dataframe\">\n",
              "  <thead>\n",
              "    <tr style=\"text-align: right;\">\n",
              "      <th></th>\n",
              "      <th>Notes</th>\n",
              "      <th>Appréciations</th>\n",
              "      <th>noms</th>\n",
              "      <th>au_dessus_de_16</th>\n",
              "      <th>c_est_bertrand</th>\n",
              "    </tr>\n",
              "  </thead>\n",
              "  <tbody>\n",
              "    <tr>\n",
              "      <th>4</th>\n",
              "      <td>20</td>\n",
              "      <td>Excellent ! 🌟</td>\n",
              "      <td>Bertrand</td>\n",
              "      <td>True</td>\n",
              "      <td>True</td>\n",
              "    </tr>\n",
              "  </tbody>\n",
              "</table>\n",
              "</div>"
            ],
            "text/plain": [
              "   Notes  Appréciations      noms  au_dessus_de_16  c_est_bertrand\n",
              "4     20  Excellent ! 🌟  Bertrand             True            True"
            ]
          },
          "execution_count": 71,
          "metadata": {},
          "output_type": "execute_result"
        }
      ],
      "source": [
        "# Filtrer les personnes ayant une note supérieure à 16\n",
        "personnes_notes_elevees = note_et_appreciation[(note_et_appreciation['Notes'] >= 16) & (note_et_appreciation['noms'] == 'Bertrand')]\n",
        "\n",
        "# Afficher le résultat\n",
        "print(\"Personnes avec une note supérieure à 16 :\")\n",
        "personnes_notes_elevees\n"
      ]
    },
    {
      "cell_type": "markdown",
      "metadata": {},
      "source": [
        "On peut utiliser query et avoir éxactement le même résultat."
      ]
    },
    {
      "cell_type": "code",
      "execution_count": 72,
      "metadata": {},
      "outputs": [
        {
          "data": {
            "text/html": [
              "<div>\n",
              "<style scoped>\n",
              "    .dataframe tbody tr th:only-of-type {\n",
              "        vertical-align: middle;\n",
              "    }\n",
              "\n",
              "    .dataframe tbody tr th {\n",
              "        vertical-align: top;\n",
              "    }\n",
              "\n",
              "    .dataframe thead th {\n",
              "        text-align: right;\n",
              "    }\n",
              "</style>\n",
              "<table border=\"1\" class=\"dataframe\">\n",
              "  <thead>\n",
              "    <tr style=\"text-align: right;\">\n",
              "      <th></th>\n",
              "      <th>Notes</th>\n",
              "      <th>Appréciations</th>\n",
              "      <th>noms</th>\n",
              "      <th>au_dessus_de_16</th>\n",
              "      <th>c_est_bertrand</th>\n",
              "    </tr>\n",
              "  </thead>\n",
              "  <tbody>\n",
              "    <tr>\n",
              "      <th>4</th>\n",
              "      <td>20</td>\n",
              "      <td>Excellent ! 🌟</td>\n",
              "      <td>Bertrand</td>\n",
              "      <td>True</td>\n",
              "      <td>True</td>\n",
              "    </tr>\n",
              "  </tbody>\n",
              "</table>\n",
              "</div>"
            ],
            "text/plain": [
              "   Notes  Appréciations      noms  au_dessus_de_16  c_est_bertrand\n",
              "4     20  Excellent ! 🌟  Bertrand             True            True"
            ]
          },
          "execution_count": 72,
          "metadata": {},
          "output_type": "execute_result"
        }
      ],
      "source": [
        "note_et_appreciation.query('Notes >= 16 and noms == \"Bertrand\"')"
      ]
    },
    {
      "cell_type": "markdown",
      "metadata": {},
      "source": [
        "Ca fonctionne avec l'aide de masque booléen.\n",
        "\n",
        "```python\n",
        "note_et_appreciation['Notes'] >= 16\n",
        "```\n",
        "\n",
        "```python\n",
        "note_et_appreciation['noms'] == 'Bertrand'\n",
        "```\n",
        "\n"
      ]
    },
    {
      "cell_type": "code",
      "execution_count": 73,
      "metadata": {},
      "outputs": [
        {
          "data": {
            "text/html": [
              "<div>\n",
              "<style scoped>\n",
              "    .dataframe tbody tr th:only-of-type {\n",
              "        vertical-align: middle;\n",
              "    }\n",
              "\n",
              "    .dataframe tbody tr th {\n",
              "        vertical-align: top;\n",
              "    }\n",
              "\n",
              "    .dataframe thead th {\n",
              "        text-align: right;\n",
              "    }\n",
              "</style>\n",
              "<table border=\"1\" class=\"dataframe\">\n",
              "  <thead>\n",
              "    <tr style=\"text-align: right;\">\n",
              "      <th></th>\n",
              "      <th>Notes</th>\n",
              "      <th>Appréciations</th>\n",
              "      <th>noms</th>\n",
              "      <th>au_dessus_de_16</th>\n",
              "      <th>c_est_bertrand</th>\n",
              "    </tr>\n",
              "  </thead>\n",
              "  <tbody>\n",
              "    <tr>\n",
              "      <th>0</th>\n",
              "      <td>12</td>\n",
              "      <td>Assez bien 🙂</td>\n",
              "      <td>Lise</td>\n",
              "      <td>False</td>\n",
              "      <td>False</td>\n",
              "    </tr>\n",
              "    <tr>\n",
              "      <th>1</th>\n",
              "      <td>14</td>\n",
              "      <td>Bien 👍</td>\n",
              "      <td>Raphael</td>\n",
              "      <td>False</td>\n",
              "      <td>False</td>\n",
              "    </tr>\n",
              "    <tr>\n",
              "      <th>2</th>\n",
              "      <td>16</td>\n",
              "      <td>Très bien ! 😊</td>\n",
              "      <td>Laurence</td>\n",
              "      <td>True</td>\n",
              "      <td>False</td>\n",
              "    </tr>\n",
              "    <tr>\n",
              "      <th>3</th>\n",
              "      <td>18</td>\n",
              "      <td>Excellent ! 🌟</td>\n",
              "      <td>Hugo</td>\n",
              "      <td>True</td>\n",
              "      <td>False</td>\n",
              "    </tr>\n",
              "    <tr>\n",
              "      <th>4</th>\n",
              "      <td>20</td>\n",
              "      <td>Excellent ! 🌟</td>\n",
              "      <td>Bertrand</td>\n",
              "      <td>True</td>\n",
              "      <td>True</td>\n",
              "    </tr>\n",
              "  </tbody>\n",
              "</table>\n",
              "</div>"
            ],
            "text/plain": [
              "   Notes  Appréciations      noms  au_dessus_de_16  c_est_bertrand\n",
              "0     12   Assez bien 🙂      Lise            False           False\n",
              "1     14         Bien 👍   Raphael            False           False\n",
              "2     16  Très bien ! 😊  Laurence             True           False\n",
              "3     18  Excellent ! 🌟      Hugo             True           False\n",
              "4     20  Excellent ! 🌟  Bertrand             True            True"
            ]
          },
          "execution_count": 73,
          "metadata": {},
          "output_type": "execute_result"
        }
      ],
      "source": [
        "#Je créer une colonne qui s'appelle \"au_dessus_de_16\" et je lui donne la valeur True si la note est supérieure ou égale à 16 et False si la note est inférieure à 16.\n",
        "note_et_appreciation[\"au_dessus_de_16\"] = note_et_appreciation[\"Notes\"] >= 16\n",
        "\n",
        "#Je créer une colonne qui s'appelle \"c_est_bertrand\" et je lui donne la valeur True si le nom est égale à Bertrand et False si le nom est différent de Bertrand.\n",
        "note_et_appreciation[\"c_est_bertrand\"] = note_et_appreciation[\"noms\"] == \"Bertrand\"\n",
        "\n",
        "#J'affiche le résultat\n",
        "note_et_appreciation"
      ]
    },
    {
      "cell_type": "markdown",
      "metadata": {},
      "source": [
        "**Nous avons utilisé des masques booléens.**"
      ]
    },
    {
      "cell_type": "markdown",
      "metadata": {},
      "source": [
        " <div style=\"display: flex; align-items: center;\">\n",
        "     <img src=\"./image/mask.png\" width=\"500\" style=\"box-shadow: 2px 2px 5px rgba(0, 0, 0, 0.3); border-radius: 10px;\"/>\n",
        "     <div style=\"margin-left: 12px;\">\n",
        "     <p> 1. Au dessus de 16  et c'est Bertrand  sont nos masques booléens</p>\n",
        "     <p> 2. On les applique avec un \"and\" entre eux</p>\n",
        "     <p> 3. Je ne récupére que les lignes ou les deux conditions sont vraies</p>\n",
        "     <p> 4. Ici une seule</p>\n",
        "  \n",
        " </div>"
      ]
    },
    {
      "cell_type": "markdown",
      "metadata": {},
      "source": [
        "#### Quelques méthodes sympa 🎁"
      ]
    },
    {
      "cell_type": "code",
      "execution_count": 94,
      "metadata": {},
      "outputs": [
        {
          "data": {
            "text/plain": [
              "0    False\n",
              "1     True\n",
              "2    False\n",
              "3     True\n",
              "4    False\n",
              "Name: noms, dtype: bool"
            ]
          },
          "execution_count": 94,
          "metadata": {},
          "output_type": "execute_result"
        }
      ],
      "source": [
        "# Savoir si une colonne contient un texte, mot particulier\n",
        "note_et_appreciation[\"noms\"].str.contains(\"h\", case=False)"
      ]
    },
    {
      "cell_type": "code",
      "execution_count": 95,
      "metadata": {},
      "outputs": [
        {
          "name": "stdout",
          "output_type": "stream",
          "text": [
            "   Notes  Appréciations        noms  au_dessus_de_16  c_est_bertrand\n",
            "0     12   Assez bien 🙂        Lise            False           False\n",
            "1     14         Bien 👍     Raphael            False           False\n",
            "2     16  Très bien ! 😊    Laurence             True           False\n",
            "3     18  Excellent ! 🌟        Hugo             True           False\n",
            "4     20  Excellent ! 🌟  Dark Vador             True            True\n"
          ]
        }
      ],
      "source": [
        "#Utilisation de inplace=True pour modifier la colonne et ne plus avoir à reassigner la dataframe\n",
        "note_et_appreciation[\"noms\"].replace(\"Bertrand\", \"Dark Vador\", inplace=True)\n",
        "print(note_et_appreciation)\n"
      ]
    },
    {
      "cell_type": "code",
      "execution_count": 96,
      "metadata": {},
      "outputs": [
        {
          "data": {
            "text/plain": [
              "4    20\n",
              "3    18\n",
              "2    16\n",
              "1    14\n",
              "0    12\n",
              "Name: Notes, dtype: int64"
            ]
          },
          "execution_count": 96,
          "metadata": {},
          "output_type": "execute_result"
        }
      ],
      "source": [
        "#Ordonner une colonne\n",
        "note_et_appreciation[\"Notes\"].sort_values(ascending=False)\n"
      ]
    },
    {
      "cell_type": "code",
      "execution_count": 99,
      "metadata": {},
      "outputs": [
        {
          "name": "stdout",
          "output_type": "stream",
          "text": [
            "La moyenne des notes est de 16.0 et l'écart type des notes est de 3.1622776601683795\n"
          ]
        }
      ],
      "source": [
        "# Opération d'aggrégation\n",
        "somme_des_note = note_et_appreciation[\"Notes\"].sum()\n",
        "moyenne_des_note = note_et_appreciation[\"Notes\"].mean()\n",
        "ecart_type_des_notes = note_et_appreciation[\"Notes\"].std()\n",
        "\n",
        "print(f'La moyenne des notes est de {moyenne_des_note} et l\\'écart type des notes est de {ecart_type_des_notes}')\n"
      ]
    },
    {
      "cell_type": "code",
      "execution_count": 100,
      "metadata": {},
      "outputs": [
        {
          "name": "stdout",
          "output_type": "stream",
          "text": [
            "   Notes  Appréciations        noms  au_dessus_de_16  c_est_bertrand  \\\n",
            "0     12   Assez bien 🙂        Lise            False           False   \n",
            "1     14         Bien 👍     Raphael            False           False   \n",
            "2     16  Très bien ! 😊    Laurence             True           False   \n",
            "3     18  Excellent ! 🌟        Hugo             True           False   \n",
            "4     20  Excellent ! 🌟  Dark Vador             True            True   \n",
            "\n",
            "   nombre_lettres_nom  \n",
            "0                   4  \n",
            "1                   7  \n",
            "2                   8  \n",
            "3                   4  \n",
            "4                  10  \n"
          ]
        }
      ],
      "source": [
        "# Faire un calcul précis sur une colonne dans le dataframe afin de créer une nouvelle colonne que nous souhaitons analyser\n",
        "\n",
        "# Ajout d'une nouvelle colonne qui compte le nombre de lettres dans chaque nom d'étudiant\n",
        "note_et_appreciation['nombre_lettres_nom'] = note_et_appreciation['noms'].str.len()\n",
        "\n",
        "# Affichage du résultat\n",
        "print(note_et_appreciation)\n"
      ]
    },
    {
      "cell_type": "markdown",
      "metadata": {},
      "source": [
        "## Analyser des données \n",
        "\n",
        "L'analyse de données est un champ vaste et complexe. \n",
        "Dans cette masterClasse, nous allons faire une passe rapide et assez simple.\n",
        "\n",
        "\n",
        "\n"
      ]
    },
    {
      "cell_type": "code",
      "execution_count": 70,
      "metadata": {},
      "outputs": [
        {
          "data": {
            "text/html": [
              "<div>\n",
              "<style scoped>\n",
              "    .dataframe tbody tr th:only-of-type {\n",
              "        vertical-align: middle;\n",
              "    }\n",
              "\n",
              "    .dataframe tbody tr th {\n",
              "        vertical-align: top;\n",
              "    }\n",
              "\n",
              "    .dataframe thead th {\n",
              "        text-align: right;\n",
              "    }\n",
              "</style>\n",
              "<table border=\"1\" class=\"dataframe\">\n",
              "  <thead>\n",
              "    <tr style=\"text-align: right;\">\n",
              "      <th></th>\n",
              "      <th>id</th>\n",
              "      <th>title</th>\n",
              "      <th>body</th>\n",
              "    </tr>\n",
              "  </thead>\n",
              "  <tbody>\n",
              "    <tr>\n",
              "      <th>0</th>\n",
              "      <td>2</td>\n",
              "      <td>Comment jongler avec des baguettes magiques</td>\n",
              "      <td>Harry Potter nous raconte comment il a appris ...</td>\n",
              "    </tr>\n",
              "    <tr>\n",
              "      <th>1</th>\n",
              "      <td>3</td>\n",
              "      <td>Le guide ultime du sabre laser</td>\n",
              "      <td>Luke Skywalker nous explique que manier un sab...</td>\n",
              "    </tr>\n",
              "    <tr>\n",
              "      <th>2</th>\n",
              "      <td>4</td>\n",
              "      <td>Le secret du sourire de la Joconde</td>\n",
              "      <td>Sherlock Holmes nous dévoile, après des années...</td>\n",
              "    </tr>\n",
              "    <tr>\n",
              "      <th>3</th>\n",
              "      <td>5</td>\n",
              "      <td>Comment survivre à une apocalypse zombie</td>\n",
              "      <td>Rick Grimes, héros de The Walking Dead, partag...</td>\n",
              "    </tr>\n",
              "    <tr>\n",
              "      <th>4</th>\n",
              "      <td>6</td>\n",
              "      <td>Construire son armure en cave</td>\n",
              "      <td>Tony Stark, alias Iron Man, partage ses astuce...</td>\n",
              "    </tr>\n",
              "    <tr>\n",
              "      <th>5</th>\n",
              "      <td>7</td>\n",
              "      <td>Les meilleures pizzas pour tortues ninja</td>\n",
              "      <td>Michelangelo, la plus gourmande des Tortues Ni...</td>\n",
              "    </tr>\n",
              "    <tr>\n",
              "      <th>6</th>\n",
              "      <td>8</td>\n",
              "      <td>Faire ses courses en Batmobile</td>\n",
              "      <td>Bruce Wayne, alias Batman, partage les défis i...</td>\n",
              "    </tr>\n",
              "    <tr>\n",
              "      <th>7</th>\n",
              "      <td>9</td>\n",
              "      <td>L'art du camouflage en forêt</td>\n",
              "      <td>Katniss Everdeen, héroïne de Hunger Games, nou...</td>\n",
              "    </tr>\n",
              "    <tr>\n",
              "      <th>8</th>\n",
              "      <td>10</td>\n",
              "      <td>Les vertus du miel magique</td>\n",
              "      <td>Winnie l'Ourson partage ses réflexions profond...</td>\n",
              "    </tr>\n",
              "    <tr>\n",
              "      <th>9</th>\n",
              "      <td>11</td>\n",
              "      <td>Pourquoi les aliens adorent les vélos</td>\n",
              "      <td>E.T., le célèbre extraterrestre, nous explique...</td>\n",
              "    </tr>\n",
              "    <tr>\n",
              "      <th>10</th>\n",
              "      <td>12</td>\n",
              "      <td>Article de la masterclass</td>\n",
              "      <td>blablablablablablablablablablablablablablablab...</td>\n",
              "    </tr>\n",
              "  </tbody>\n",
              "</table>\n",
              "</div>"
            ],
            "text/plain": [
              "    id                                        title  \\\n",
              "0    2  Comment jongler avec des baguettes magiques   \n",
              "1    3               Le guide ultime du sabre laser   \n",
              "2    4           Le secret du sourire de la Joconde   \n",
              "3    5     Comment survivre à une apocalypse zombie   \n",
              "4    6                Construire son armure en cave   \n",
              "5    7     Les meilleures pizzas pour tortues ninja   \n",
              "6    8               Faire ses courses en Batmobile   \n",
              "7    9                 L'art du camouflage en forêt   \n",
              "8   10                   Les vertus du miel magique   \n",
              "9   11        Pourquoi les aliens adorent les vélos   \n",
              "10  12                    Article de la masterclass   \n",
              "\n",
              "                                                 body  \n",
              "0   Harry Potter nous raconte comment il a appris ...  \n",
              "1   Luke Skywalker nous explique que manier un sab...  \n",
              "2   Sherlock Holmes nous dévoile, après des années...  \n",
              "3   Rick Grimes, héros de The Walking Dead, partag...  \n",
              "4   Tony Stark, alias Iron Man, partage ses astuce...  \n",
              "5   Michelangelo, la plus gourmande des Tortues Ni...  \n",
              "6   Bruce Wayne, alias Batman, partage les défis i...  \n",
              "7   Katniss Everdeen, héroïne de Hunger Games, nou...  \n",
              "8   Winnie l'Ourson partage ses réflexions profond...  \n",
              "9   E.T., le célèbre extraterrestre, nous explique...  \n",
              "10  blablablablablablablablablablablablablablablab...  "
            ]
          },
          "execution_count": 70,
          "metadata": {},
          "output_type": "execute_result"
        }
      ],
      "source": [
        "import requests\n",
        "\n",
        "# URL de l'APIx\n",
        "url = \"https://dashboard-strapi.hodi.cloud/api/articles?fields[0]=id&fields[1]=title&fields[2]=body\"\n",
        "\n",
        "# Récupérer les données\n",
        "response = requests.get(url)\n",
        "data = response.json()\n",
        "df_articles = pd.DataFrame([\n",
        "    {\n",
        "        'id': article['id'],\n",
        "        'title': article['attributes']['title'],\n",
        "        'body': article['attributes']['body'][0]['children'][0]['text']\n",
        "    }\n",
        "    for article in data['data']\n",
        "])\n",
        "# Créer un DataFrame à partir des données\n",
        "\n",
        "df_articles.head(100)"
      ]
    }
  ],
  "metadata": {
    "kernelspec": {
      "display_name": "masterclassData",
      "language": "python",
      "name": "python3"
    },
    "language_info": {
      "codemirror_mode": {
        "name": "ipython",
        "version": 3
      },
      "file_extension": ".py",
      "mimetype": "text/x-python",
      "name": "python",
      "nbconvert_exporter": "python",
      "pygments_lexer": "ipython3",
      "version": "3.12.3"
    }
  },
  "nbformat": 4,
  "nbformat_minor": 2
}
